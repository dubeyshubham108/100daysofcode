{
  "nbformat": 4,
  "nbformat_minor": 0,
  "metadata": {
    "colab": {
      "provenance": []
    },
    "kernelspec": {
      "name": "python3",
      "display_name": "Python 3"
    },
    "language_info": {
      "name": "python"
    }
  },
  "cells": [
    {
      "cell_type": "code",
      "source": [
        "# 🚨 Don't change the code below 👇\n",
        "student_heights = input(\"Input a list of student heights \").split()\n",
        "for n in range(0, len(student_heights)):\n",
        "  student_heights[n] = int(student_heights[n])\n",
        "# 🚨 Don't change the code above 👆\n",
        "\n",
        "#Write your code below this row 👇\n",
        "\n",
        "s = sum(student_heights)\n",
        "total = len(student_heights)\n",
        "avg = int(round(s/total))\n",
        "\n",
        "print(avg)\n"
      ],
      "metadata": {
        "colab": {
          "base_uri": "https://localhost:8080/"
        },
        "id": "Bfrbd1FASthC",
        "outputId": "0fcd3499-c932-4880-bbf3-486f59862b33"
      },
      "execution_count": null,
      "outputs": [
        {
          "output_type": "stream",
          "name": "stdout",
          "text": [
            "Input a list of student heights 12 34 56 78 90\n",
            "54\n"
          ]
        }
      ]
    },
    {
      "cell_type": "code",
      "source": [],
      "metadata": {
        "id": "i4VlQcHBStjy"
      },
      "execution_count": null,
      "outputs": []
    },
    {
      "cell_type": "code",
      "source": [
        "# 🚨 Don't change the code below 👇\n",
        "student_heights = input(\"Input a list of student heights \").split()\n",
        "\n",
        "for n in range(0, len(student_heights)):\n",
        "  student_heights[n] = int(student_heights[n])\n",
        "\n",
        "# 🚨 Don't change the code above 👆\n",
        "\n",
        "total_height = 0\n",
        "\n",
        "for height in student_heights:\n",
        "  total_height += height\n",
        "print(total_height)\n",
        "\n",
        "\n",
        "number_of_students = 0\n",
        "for student in student_heights:\n",
        "  number_of_students += 1\n",
        "print(number_of_students)\n",
        "\n",
        "average_height = round(total_height / number_of_students)\n",
        "\n",
        "print(average_height)"
      ],
      "metadata": {
        "colab": {
          "base_uri": "https://localhost:8080/"
        },
        "id": "P9OQnQAZStmZ",
        "outputId": "7405ed5d-0b5b-492f-9664-d394eac305bc"
      },
      "execution_count": null,
      "outputs": [
        {
          "output_type": "stream",
          "name": "stdout",
          "text": [
            "Input a list of student heights 12 23 45\n",
            "80\n",
            "3\n",
            "27\n"
          ]
        }
      ]
    },
    {
      "cell_type": "markdown",
      "source": [
        "## Excercise 2: "
      ],
      "metadata": {
        "id": "ETkMxorHZmVs"
      }
    },
    {
      "cell_type": "code",
      "source": [
        "# 🚨 Don't change the code below 👇\n",
        "student_scores = input(\"Input a list of student scores \").split()\n",
        "for n in range(0, len(student_scores)):\n",
        "  student_scores[n] = int(student_scores[n])\n",
        "print(student_scores)\n",
        "# 🚨 Don't change the code above 👆\n",
        "\n",
        "#Write your code below this row 👇\n",
        "\n",
        "highest_score = 0\n",
        "\n",
        "for score in student_scores:\n",
        "  if score > highest_score:\n",
        "    highest_score = score\n",
        "\n",
        "print(f\"The highest score in the class is: {highest_score}\")"
      ],
      "metadata": {
        "colab": {
          "base_uri": "https://localhost:8080/"
        },
        "id": "ObCdg-p_YG24",
        "outputId": "e56df1f4-fed1-4ef5-f729-5fbdbc773ee8"
      },
      "execution_count": null,
      "outputs": [
        {
          "output_type": "stream",
          "name": "stdout",
          "text": [
            "Input a list of student scores 12 34 56 76 54 89 0\n",
            "[12, 34, 56, 76, 54, 89, 0]\n",
            "The highest score in the class is: 89\n"
          ]
        }
      ]
    },
    {
      "cell_type": "code",
      "source": [
        "min_value = student_scores[0]\n",
        "\n",
        "for i in student_scores:\n",
        "  if i < min_value:\n",
        "    min_value = i\n",
        "print(min_value)"
      ],
      "metadata": {
        "colab": {
          "base_uri": "https://localhost:8080/"
        },
        "id": "iZMBkkM_ZleK",
        "outputId": "0d291347-c3d7-4f2b-fa89-a2ebbd7bf7d0"
      },
      "execution_count": null,
      "outputs": [
        {
          "output_type": "stream",
          "name": "stdout",
          "text": [
            "0\n"
          ]
        }
      ]
    },
    {
      "cell_type": "markdown",
      "source": [
        "## Exercise 4: Sum of even number between 1 to 100\n"
      ],
      "metadata": {
        "id": "SUaHCs6og9Gr"
      }
    },
    {
      "cell_type": "code",
      "source": [
        "#Write your code below this row 👇\n",
        "s = 0\n",
        "for i in range(1, 101):\n",
        "    if i%2==0:\n",
        "        s += i\n",
        "print(s)\n"
      ],
      "metadata": {
        "colab": {
          "base_uri": "https://localhost:8080/"
        },
        "id": "4bbzAacUZlh5",
        "outputId": "07776555-2d8b-48b1-cdce-5e1b384deccb"
      },
      "execution_count": null,
      "outputs": [
        {
          "output_type": "stream",
          "name": "stdout",
          "text": [
            "2550\n"
          ]
        }
      ]
    },
    {
      "cell_type": "markdown",
      "source": [
        "## Exercise 5: FizzBuzz Job interview question"
      ],
      "metadata": {
        "id": "wIZ47yvhhL3x"
      }
    },
    {
      "cell_type": "code",
      "source": [
        "#Write your code below this row 👇\n",
        "\n",
        "for i in range(1, 101):\n",
        "    if i%3==0 and i%5==0:\n",
        "        print(\"FizzBuzz\")\n",
        "    elif i%3 == 0:\n",
        "        print(\"Fizz\")\n",
        "    elif i%5 == 0:\n",
        "        print(\"Buzz\")\n",
        "    else:\n",
        "        print(i)"
      ],
      "metadata": {
        "colab": {
          "base_uri": "https://localhost:8080/"
        },
        "id": "XLwL7w5AhVmw",
        "outputId": "272553d4-5e9b-4120-d0e0-9ca1008b27c6"
      },
      "execution_count": null,
      "outputs": [
        {
          "output_type": "stream",
          "name": "stdout",
          "text": [
            "1\n",
            "2\n",
            "Fizz\n",
            "4\n",
            "Buzz\n",
            "Fizz\n",
            "7\n",
            "8\n",
            "Fizz\n",
            "Buzz\n",
            "11\n",
            "Fizz\n",
            "13\n",
            "14\n",
            "FizzBuzz\n",
            "16\n",
            "17\n",
            "Fizz\n",
            "19\n",
            "Buzz\n",
            "Fizz\n",
            "22\n",
            "23\n",
            "Fizz\n",
            "Buzz\n",
            "26\n",
            "Fizz\n",
            "28\n",
            "29\n",
            "FizzBuzz\n",
            "31\n",
            "32\n",
            "Fizz\n",
            "34\n",
            "Buzz\n",
            "Fizz\n",
            "37\n",
            "38\n",
            "Fizz\n",
            "Buzz\n",
            "41\n",
            "Fizz\n",
            "43\n",
            "44\n",
            "FizzBuzz\n",
            "46\n",
            "47\n",
            "Fizz\n",
            "49\n",
            "Buzz\n",
            "Fizz\n",
            "52\n",
            "53\n",
            "Fizz\n",
            "Buzz\n",
            "56\n",
            "Fizz\n",
            "58\n",
            "59\n",
            "FizzBuzz\n",
            "61\n",
            "62\n",
            "Fizz\n",
            "64\n",
            "Buzz\n",
            "Fizz\n",
            "67\n",
            "68\n",
            "Fizz\n",
            "Buzz\n",
            "71\n",
            "Fizz\n",
            "73\n",
            "74\n",
            "FizzBuzz\n",
            "76\n",
            "77\n",
            "Fizz\n",
            "79\n",
            "Buzz\n",
            "Fizz\n",
            "82\n",
            "83\n",
            "Fizz\n",
            "Buzz\n",
            "86\n",
            "Fizz\n",
            "88\n",
            "89\n",
            "FizzBuzz\n",
            "91\n",
            "92\n",
            "Fizz\n",
            "94\n",
            "Buzz\n",
            "Fizz\n",
            "97\n",
            "98\n",
            "Fizz\n",
            "Buzz\n"
          ]
        }
      ]
    },
    {
      "cell_type": "code",
      "source": [],
      "metadata": {
        "id": "MfKELRZRhV8s"
      },
      "execution_count": null,
      "outputs": []
    },
    {
      "cell_type": "code",
      "source": [],
      "metadata": {
        "id": "ElTlDX27hWJU"
      },
      "execution_count": null,
      "outputs": []
    },
    {
      "cell_type": "code",
      "source": [],
      "metadata": {
        "id": "cqaGiY7GZll6"
      },
      "execution_count": null,
      "outputs": []
    },
    {
      "cell_type": "code",
      "source": [],
      "metadata": {
        "id": "F8F0NCT1Zlpa"
      },
      "execution_count": null,
      "outputs": []
    },
    {
      "cell_type": "code",
      "source": [],
      "metadata": {
        "id": "73JE-0z4ZltL"
      },
      "execution_count": null,
      "outputs": []
    },
    {
      "cell_type": "code",
      "source": [],
      "metadata": {
        "id": "zNaRP357YG8E"
      },
      "execution_count": null,
      "outputs": []
    },
    {
      "cell_type": "code",
      "source": [],
      "metadata": {
        "id": "HCV9X-G0YG_v"
      },
      "execution_count": null,
      "outputs": []
    },
    {
      "cell_type": "code",
      "source": [],
      "metadata": {
        "id": "iAVtftbfYHDa"
      },
      "execution_count": null,
      "outputs": []
    },
    {
      "cell_type": "code",
      "source": [],
      "metadata": {
        "id": "dVindoBcStxB"
      },
      "execution_count": null,
      "outputs": []
    },
    {
      "cell_type": "code",
      "source": [],
      "metadata": {
        "id": "-z0c8J4mStzr"
      },
      "execution_count": null,
      "outputs": []
    }
  ]
}