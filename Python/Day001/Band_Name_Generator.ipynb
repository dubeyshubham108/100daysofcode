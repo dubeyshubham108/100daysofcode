{
  "nbformat": 4,
  "nbformat_minor": 0,
  "metadata": {
    "colab": {
      "provenance": []
    },
    "kernelspec": {
      "name": "python3",
      "display_name": "Python 3"
    },
    "language_info": {
      "name": "python"
    }
  },
  "cells": [
    {
      "cell_type": "code",
      "execution_count": 2,
      "metadata": {
        "colab": {
          "base_uri": "https://localhost:8080/"
        },
        "id": "ob2CAUpvFUpR",
        "outputId": "ede44a96-17cf-46e3-8feb-89f508edc142"
      },
      "outputs": [
        {
          "output_type": "stream",
          "name": "stdout",
          "text": [
            "Hello there! Welcome to Band Generator.\n",
            "Please tell us your city name. \n",
            "Delhi\n",
            "Please tell us your pet's name. \n",
            "Rocky\n",
            "Your band name should be Delhi Rocky.\n"
          ]
        }
      ],
      "source": [
        "#1. Create a greeting for your program.\n",
        "print(\"Hello there! Welcome to Band Generator.\")\n",
        "\n",
        "#2. Ask the user for the city that they grew up in.\n",
        "city = input(\"Please tell us your city name. \\n\")\n",
        "\n",
        "#3. Ask the user for the name of a pet.\n",
        "pet = input(\"Please tell us your pet's name. \\n\")\n",
        "\n",
        "#4. Combine the name of their city and pet and show them their band name.\n",
        "band_name = f\"{city} {pet}\"\n",
        "\n",
        "#5. Make sure the input cursor shows on a new line.\n",
        "print(f\"Your band name should be {band_name}.\")"
      ]
    },
    {
      "cell_type": "code",
      "source": [],
      "metadata": {
        "id": "hS8r_SAsFYU8"
      },
      "execution_count": null,
      "outputs": []
    }
  ]
}