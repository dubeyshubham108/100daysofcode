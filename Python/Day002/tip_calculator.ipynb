{
  "nbformat": 4,
  "nbformat_minor": 0,
  "metadata": {
    "colab": {
      "provenance": []
    },
    "kernelspec": {
      "name": "python3",
      "display_name": "Python 3"
    },
    "language_info": {
      "name": "python"
    }
  },
  "cells": [
    {
      "cell_type": "markdown",
      "source": [
        "# Tip Calculator"
      ],
      "metadata": {
        "id": "ejMN_BDn4USH"
      }
    },
    {
      "cell_type": "code",
      "source": [
        "your_bill = float(input(\"What was the total bill?\\n\"))\n",
        "bill = int(your_bill)\n",
        "\n",
        "tip = int(input(\"What percentage tip would you like to give? 10, 12, or 15\\n\"))\n",
        "\n",
        "split_between = int(input(\"How many people to split the bill?\\n\"))\n",
        "\n",
        "# bill_amount = bill(1 + (tip/100))\n",
        "bill_with_tip = tip / 100 * bill +  bill\n",
        "\n",
        "a = bill_with_tip / split_between\n",
        "# amount = round(a, 2)\n",
        "\n",
        "amount = \"{:.2f}\".format(a)\n",
        "\n",
        "print(f\"Each person should pay: ${amount} as a tip.\")"
      ],
      "metadata": {
        "colab": {
          "base_uri": "https://localhost:8080/"
        },
        "id": "0rL6v-5D4Tfn",
        "outputId": "a8945157-5290-47f6-e04a-3a740f8fc362"
      },
      "execution_count": 19,
      "outputs": [
        {
          "output_type": "stream",
          "name": "stdout",
          "text": [
            "What was the total bill?\n",
            "150\n",
            "What percentage tip would you like to give? 10, 12, or 15\n",
            "12\n",
            "How many people to split the bill?\n",
            "5\n",
            "Each person should pay: $33.60 as a tip.\n"
          ]
        }
      ]
    },
    {
      "cell_type": "code",
      "source": [],
      "metadata": {
        "id": "hArL5AXg4Tps"
      },
      "execution_count": null,
      "outputs": []
    },
    {
      "cell_type": "code",
      "source": [],
      "metadata": {
        "id": "vtwDZsAw4Trs"
      },
      "execution_count": null,
      "outputs": []
    },
    {
      "cell_type": "code",
      "source": [],
      "metadata": {
        "id": "BaD9vfYC4TuB"
      },
      "execution_count": null,
      "outputs": []
    }
  ]
}