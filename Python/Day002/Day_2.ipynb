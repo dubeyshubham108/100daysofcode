{
  "nbformat": 4,
  "nbformat_minor": 0,
  "metadata": {
    "colab": {
      "provenance": []
    },
    "kernelspec": {
      "name": "python3",
      "display_name": "Python 3"
    },
    "language_info": {
      "name": "python"
    }
  },
  "cells": [
    {
      "cell_type": "code",
      "execution_count": 1,
      "metadata": {
        "colab": {
          "base_uri": "https://localhost:8080/"
        },
        "id": "5N-raBD5q0iG",
        "outputId": "d07b6ec4-d3d6-4782-e7f5-f1beb7cf7cff"
      },
      "outputs": [
        {
          "output_type": "stream",
          "name": "stdout",
          "text": [
            "<class 'int'>\n"
          ]
        }
      ],
      "source": [
        "print(type(4))"
      ]
    },
    {
      "cell_type": "code",
      "source": [
        "print(\"Awesome\"[3])"
      ],
      "metadata": {
        "colab": {
          "base_uri": "https://localhost:8080/"
        },
        "id": "ZGqGFlwjq_Et",
        "outputId": "0f57b971-aaf3-4396-d7dc-eaa036a9ce96"
      },
      "execution_count": 2,
      "outputs": [
        {
          "output_type": "stream",
          "name": "stdout",
          "text": [
            "s\n"
          ]
        }
      ]
    },
    {
      "cell_type": "code",
      "source": [
        "print(\"Hello\"[4])"
      ],
      "metadata": {
        "colab": {
          "base_uri": "https://localhost:8080/"
        },
        "id": "0x1kcq9Rq_9d",
        "outputId": "d11e65aa-568c-43ef-9e49-677cd271ef17"
      },
      "execution_count": 3,
      "outputs": [
        {
          "output_type": "stream",
          "name": "stdout",
          "text": [
            "o\n"
          ]
        }
      ]
    },
    {
      "cell_type": "code",
      "source": [
        "print(\"Hello\"[-1])"
      ],
      "metadata": {
        "colab": {
          "base_uri": "https://localhost:8080/"
        },
        "id": "YyJ3nzqyrAC5",
        "outputId": "1c2d0f30-f0b1-4250-ad8b-d55e66d9aed2"
      },
      "execution_count": 4,
      "outputs": [
        {
          "output_type": "stream",
          "name": "stdout",
          "text": [
            "o\n"
          ]
        }
      ]
    },
    {
      "cell_type": "code",
      "source": [
        "print(\"123\" + \"456\")"
      ],
      "metadata": {
        "colab": {
          "base_uri": "https://localhost:8080/"
        },
        "id": "5pzfcGdRrAGJ",
        "outputId": "302a56be-ca69-4f41-8b06-fded362a3c7e"
      },
      "execution_count": 5,
      "outputs": [
        {
          "output_type": "stream",
          "name": "stdout",
          "text": [
            "123456\n"
          ]
        }
      ]
    },
    {
      "cell_type": "code",
      "source": [
        "num_char = len(input(\"What is your name? \\n\"))\n",
        "print(num_char)\n",
        "print(type(num_char))"
      ],
      "metadata": {
        "colab": {
          "base_uri": "https://localhost:8080/"
        },
        "id": "EFwyxGAzrAIt",
        "outputId": "355a23ad-9145-46d3-f451-3fcf9f503a30"
      },
      "execution_count": 15,
      "outputs": [
        {
          "output_type": "stream",
          "name": "stdout",
          "text": [
            "What is your name? \n",
            "rohan\n",
            "5\n",
            "<class 'int'>\n"
          ]
        }
      ]
    },
    {
      "cell_type": "code",
      "source": [
        "print(\"your name has \" + new_num_char + \" characters\")"
      ],
      "metadata": {
        "colab": {
          "base_uri": "https://localhost:8080/"
        },
        "id": "aAqaF7k8rf_n",
        "outputId": "415b8fb1-8a58-4526-d219-fc551d64182e"
      },
      "execution_count": 19,
      "outputs": [
        {
          "output_type": "stream",
          "name": "stdout",
          "text": [
            "your name has 5characters\n"
          ]
        }
      ]
    },
    {
      "cell_type": "code",
      "source": [
        "new_num_char = str(num_char)"
      ],
      "metadata": {
        "id": "aBQtuSz8rgCZ"
      },
      "execution_count": 17,
      "outputs": []
    },
    {
      "cell_type": "code",
      "source": [
        "print(70 + float(\"100.5\"))\n",
        "# here we are converting string into floating point number. And then adding it."
      ],
      "metadata": {
        "colab": {
          "base_uri": "https://localhost:8080/"
        },
        "id": "SVgP0iYbrgE2",
        "outputId": "40c9570f-7542-4e9f-fdfd-69a81c028c9f"
      },
      "execution_count": 22,
      "outputs": [
        {
          "output_type": "stream",
          "name": "stdout",
          "text": [
            "170.5\n"
          ]
        }
      ]
    },
    {
      "cell_type": "code",
      "source": [
        "print(str(70) + str(100))"
      ],
      "metadata": {
        "colab": {
          "base_uri": "https://localhost:8080/"
        },
        "id": "5PqJpLSlrgG2",
        "outputId": "241c2d31-9661-4369-93f8-c58b84d15b9c"
      },
      "execution_count": 23,
      "outputs": [
        {
          "output_type": "stream",
          "name": "stdout",
          "text": [
            "70100\n"
          ]
        }
      ]
    },
    {
      "cell_type": "markdown",
      "source": [
        "**Exercise 1**"
      ],
      "metadata": {
        "id": "s3Y93xAquRQR"
      }
    },
    {
      "cell_type": "code",
      "source": [
        "x = str(input(\"Enter two digit number \"))\n",
        "result = int(x[0]) + int(x[1])\n",
        "print(result)"
      ],
      "metadata": {
        "colab": {
          "base_uri": "https://localhost:8080/"
        },
        "id": "Ezw-pH_HtyDz",
        "outputId": "d9256334-61a2-49c1-fba1-9944f86adba7"
      },
      "execution_count": 27,
      "outputs": [
        {
          "output_type": "stream",
          "name": "stdout",
          "text": [
            "Enter two digit number 39\n",
            "12\n"
          ]
        }
      ]
    },
    {
      "cell_type": "code",
      "source": [
        "x = 2**4"
      ],
      "metadata": {
        "id": "4UqkA_hAvi-e"
      },
      "execution_count": 28,
      "outputs": []
    },
    {
      "cell_type": "code",
      "source": [
        "print(x)"
      ],
      "metadata": {
        "colab": {
          "base_uri": "https://localhost:8080/"
        },
        "id": "8Kh2mqUZvi7M",
        "outputId": "31cba1a6-6873-4a4b-9f0c-5ab044ee6113"
      },
      "execution_count": 29,
      "outputs": [
        {
          "output_type": "stream",
          "name": "stdout",
          "text": [
            "16\n"
          ]
        }
      ]
    },
    {
      "cell_type": "markdown",
      "source": [
        "### PEMDAS \n",
        "Order of priority.\n",
        "Parenthesis\n",
        "\n",
        "Exponent\n",
        "\n",
        "Multiplication\n",
        "\n",
        "Division\n",
        "\n",
        "Addition\n",
        "\n",
        "Subtraction"
      ],
      "metadata": {
        "id": "KkZiXlfYwD54"
      }
    },
    {
      "cell_type": "code",
      "source": [
        "print(3 * 3 + 3/3 -3)"
      ],
      "metadata": {
        "colab": {
          "base_uri": "https://localhost:8080/"
        },
        "id": "OXAHfui7vi4r",
        "outputId": "0c1e358b-9a7a-4e9e-86d7-ba46b62082e0"
      },
      "execution_count": 30,
      "outputs": [
        {
          "output_type": "stream",
          "name": "stdout",
          "text": [
            "7.0\n"
          ]
        }
      ]
    },
    {
      "cell_type": "code",
      "source": [
        "print(3 * (3 + 3)/3 -3)"
      ],
      "metadata": {
        "colab": {
          "base_uri": "https://localhost:8080/"
        },
        "id": "FG_y2_Rqvi2L",
        "outputId": "363e0e3f-5463-4af9-9306-324718c4e635"
      },
      "execution_count": 32,
      "outputs": [
        {
          "output_type": "stream",
          "name": "stdout",
          "text": [
            "3.0\n"
          ]
        }
      ]
    },
    {
      "cell_type": "markdown",
      "source": [
        "#### BMI Calculator\n",
        "Body Mass Calculator\n"
      ],
      "metadata": {
        "id": "5VSsmjDLxYm0"
      }
    },
    {
      "cell_type": "code",
      "source": [
        "height = float(input(\"Enter your height\\n\"))\n",
        "weight = int(input(\"Enter your weight\\n\"))\n",
        "\n",
        "BMI = weight/ (height **2)\n",
        "\n",
        "print(BMI)"
      ],
      "metadata": {
        "colab": {
          "base_uri": "https://localhost:8080/"
        },
        "id": "nCWc6PZlxfEp",
        "outputId": "4e213d25-1d86-461b-c8a3-34045f9a344f"
      },
      "execution_count": 44,
      "outputs": [
        {
          "output_type": "stream",
          "name": "stdout",
          "text": [
            "Enter your height\n",
            "1.75\n",
            "Enter your weight\n",
            "50\n",
            "16.3265306122449\n"
          ]
        }
      ]
    },
    {
      "cell_type": "code",
      "source": [
        "bmi_int = int(BMI)\n",
        "print(bmi_int)"
      ],
      "metadata": {
        "colab": {
          "base_uri": "https://localhost:8080/"
        },
        "id": "B3mQNvAMy_J7",
        "outputId": "302a617c-0ec6-4e6c-d803-34bb0c93d0d2"
      },
      "execution_count": 45,
      "outputs": [
        {
          "output_type": "stream",
          "name": "stdout",
          "text": [
            "16\n"
          ]
        }
      ]
    },
    {
      "cell_type": "code",
      "source": [
        "# Now to print it in whole number\n",
        "print(round(BMI, 1))"
      ],
      "metadata": {
        "colab": {
          "base_uri": "https://localhost:8080/"
        },
        "id": "bJ4zzmLbvizX",
        "outputId": "f76a0442-88ef-42a5-cc71-d6cbd7c429ef"
      },
      "execution_count": 41,
      "outputs": [
        {
          "output_type": "stream",
          "name": "stdout",
          "text": [
            "1.4\n"
          ]
        }
      ]
    },
    {
      "cell_type": "markdown",
      "source": [
        "### f- string"
      ],
      "metadata": {
        "id": "jSy1T0hc0Ljx"
      }
    },
    {
      "cell_type": "code",
      "source": [
        "score = 0\n",
        "height = 1.8\n",
        "print(f\"your score is {score}\")"
      ],
      "metadata": {
        "colab": {
          "base_uri": "https://localhost:8080/"
        },
        "id": "ZLh6xhzpviwv",
        "outputId": "093b38ad-0422-4093-82fa-949023ad7036"
      },
      "execution_count": 46,
      "outputs": [
        {
          "output_type": "stream",
          "name": "stdout",
          "text": [
            "your score is 0\n"
          ]
        }
      ]
    },
    {
      "cell_type": "markdown",
      "source": [
        "Exercise 2: Your life in weeks"
      ],
      "metadata": {
        "id": "fhOYU9wA0djM"
      }
    },
    {
      "cell_type": "code",
      "source": [
        "y = input(\"What is your current age?\\n\")\n",
        "x = int(float((y)))\n",
        "\n",
        "left = int(90 - x)\n",
        "\n",
        "month = left * 12\n",
        "weeks = month * 4\n",
        "days = left * 365\n",
        "\n",
        "print(f\"you have {days} days, {weeks} weeks, and {month} months left.\")\n"
      ],
      "metadata": {
        "colab": {
          "base_uri": "https://localhost:8080/"
        },
        "id": "ivbQAcVHxqcd",
        "outputId": "6f766918-b0d1-4d0c-a776-c65bcb5e92a6"
      },
      "execution_count": 65,
      "outputs": [
        {
          "output_type": "stream",
          "name": "stdout",
          "text": [
            "What is your current age?\n",
            "67\n",
            "you have 8395 days, 1104 weeks, and 276 months left.\n"
          ]
        }
      ]
    }
  ]
}