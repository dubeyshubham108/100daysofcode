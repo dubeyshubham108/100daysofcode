{
  "nbformat": 4,
  "nbformat_minor": 0,
  "metadata": {
    "colab": {
      "provenance": []
    },
    "kernelspec": {
      "name": "python3",
      "display_name": "Python 3"
    },
    "language_info": {
      "name": "python"
    }
  },
  "cells": [
    {
      "cell_type": "code",
      "source": [],
      "metadata": {
        "id": "80A0P5VjnWfi"
      },
      "execution_count": null,
      "outputs": []
    },
    {
      "cell_type": "code",
      "source": [
        "# 🚨 Don't change the code below 👇\n",
        "print(\"Welcome to Python Pizza Deliveries!\")\n",
        "size = input(\"What size pizza do you want? S, M, or L \")\n",
        "add_pepperoni = input(\"Do you want pepperoni? Y or N \")\n",
        "extra_cheese = input(\"Do you want extra cheese? Y or N \")\n",
        "# 🚨 Don't change the code above 👆\n",
        "\n",
        "#Write your code below this line 👇\n",
        "if size=='S' or size=='s':\n",
        "    bill = 15\n",
        "    if add_pepperoni=='Y' or add_pepperoni=='y':\n",
        "        bill+=2\n",
        "        if extra_cheese=='Y' or extra_cheese=='y':\n",
        "            bill+=1\n",
        "            print(f\"Your final bill is: ${bill}\")\n",
        "        else:\n",
        "            print(f\"Your final bill is: ${bill}\")\n",
        "    else:\n",
        "        if extra_cheese=='Y' or extra_cheese=='y':\n",
        "            bill+=1\n",
        "            print(f\"Your final bill is: ${bill}\")\n",
        "        else:\n",
        "            print(f\"Your final bill is: ${bill}\")\n",
        "elif size=='M' or size=='m':\n",
        "    bill = 20\n",
        "    if add_pepperoni=='Y' or add_pepperoni==',y':\n",
        "        bill+=3\n",
        "        if extra_cheese=='Y' or extra_cheese=='y':\n",
        "            bill+=1\n",
        "            print(f\"Your final bill is: ${bill}\")\n",
        "        else:\n",
        "            print(f\"Your final bill is: ${bill}\")\n",
        "    else:\n",
        "        if extra_cheese=='Y' or extra_cheese=='y':\n",
        "            bill+=1\n",
        "            print(f\"Your final bill is: ${bill}\")\n",
        "        else:\n",
        "            print(f\"Your final bill is: ${bill}\")\n",
        "else:\n",
        "    bill = 25\n",
        "    if add_pepperoni=='Y' or add_pepperoni=='y':\n",
        "        bill+=3\n",
        "        if extra_cheese=='Y' or extra_cheese=='y':\n",
        "            bill+=1\n",
        "            print(f\"Your final bill is: ${bill}\")\n",
        "        else:\n",
        "            print(f\"Your final bill is: ${bill}\")\n",
        "    else:\n",
        "        if extra_cheese=='Y' or extra_cheese=='y':\n",
        "            bill+=1\n",
        "            print(f\"Your final bill is: ${bill}\")\n",
        "        else:\n",
        "            print(f\"Your final bill is: ${bill}\")\n"
      ],
      "metadata": {
        "colab": {
          "base_uri": "https://localhost:8080/"
        },
        "id": "eMuySLqblRGi",
        "outputId": "dfe92651-4109-4c16-c090-7a8a3bdd0351"
      },
      "execution_count": 1,
      "outputs": [
        {
          "output_type": "stream",
          "name": "stdout",
          "text": [
            "Welcome to Python Pizza Deliveries!\n",
            "What size pizza do you want? S, M, or L s\n",
            "Do you want pepperoni? Y or N y\n",
            "Do you want extra cheese? Y or N \n",
            "Your final bill is: $17\n"
          ]
        }
      ]
    },
    {
      "cell_type": "code",
      "source": [],
      "metadata": {
        "id": "XHgsgw9NnWit"
      },
      "execution_count": null,
      "outputs": []
    },
    {
      "cell_type": "code",
      "source": [
        "## Angela method\n",
        "\n",
        "# 🚨 Don't change the code below 👇\n",
        "print(\"Welcome to Python Pizza Deliveries!\")\n",
        "size = input(\"What size pizza do you want? S, M, or L \")\n",
        "add_pepperoni = input(\"Do you want pepperoni? Y or N \")\n",
        "extra_cheese = input(\"Do you want extra cheese? Y or N \")\n",
        "# 🚨 Don't change the code above 👆\n",
        "\n",
        "#Write your code below this line 👇\n",
        "\n",
        "bill = 0\n",
        "\n",
        "if size == 'S':\n",
        "  bill += 15\n",
        "elif size == 'M':\n",
        "  bill += 20\n",
        "elif size == 'L':\n",
        "  bill += 25\n",
        "\n",
        "\n",
        "if add_pepperoni == 'Y':\n",
        "  if size == 'S':\n",
        "    bill += 2\n",
        "  else:\n",
        "    bill += 3\n",
        "\n",
        "if  extra_cheese == 'Y':\n",
        "  bill += 1\n",
        "\n",
        "\n",
        "print(f\"Your final bill is: ${bill}\")"
      ],
      "metadata": {
        "colab": {
          "base_uri": "https://localhost:8080/"
        },
        "id": "-0gOpBYCnWml",
        "outputId": "426e4571-00f0-4ea5-e04f-e682276062d9"
      },
      "execution_count": 2,
      "outputs": [
        {
          "output_type": "stream",
          "name": "stdout",
          "text": [
            "Welcome to Python Pizza Deliveries!\n",
            "What size pizza do you want? S, M, or L S\n",
            "Do you want pepperoni? Y or N Y\n",
            "Do you want extra cheese? Y or N Y\n",
            "Your final bill is: $18\n"
          ]
        }
      ]
    },
    {
      "cell_type": "code",
      "source": [],
      "metadata": {
        "id": "FTcNxDJnnWqF"
      },
      "execution_count": null,
      "outputs": []
    },
    {
      "cell_type": "code",
      "source": [],
      "metadata": {
        "id": "ozbOsFcznWs_"
      },
      "execution_count": null,
      "outputs": []
    },
    {
      "cell_type": "code",
      "source": [],
      "metadata": {
        "id": "X03zfarAnWv0"
      },
      "execution_count": null,
      "outputs": []
    }
  ]
}