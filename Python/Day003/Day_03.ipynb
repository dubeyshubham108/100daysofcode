{
  "nbformat": 4,
  "nbformat_minor": 0,
  "metadata": {
    "colab": {
      "provenance": []
    },
    "kernelspec": {
      "name": "python3",
      "display_name": "Python 3"
    },
    "language_info": {
      "name": "python"
    }
  },
  "cells": [
    {
      "cell_type": "markdown",
      "source": [
        "## Check whether number is odd or even"
      ],
      "metadata": {
        "id": "Vr4_-Q8Ip43h"
      }
    },
    {
      "cell_type": "code",
      "source": [
        "n = int(input(\"Enter any integer number\\n\"))\n",
        "\n",
        "if n%2==0:\n",
        "  print(f\"{n} it is an even number\")\n",
        "else:\n",
        "  print(f\"{n} it is an odd number\")"
      ],
      "metadata": {
        "colab": {
          "base_uri": "https://localhost:8080/"
        },
        "id": "HR6W-cTup891",
        "outputId": "f0519e4f-7e99-4bcf-c91a-03bbc2201137"
      },
      "execution_count": null,
      "outputs": [
        {
          "output_type": "stream",
          "name": "stdout",
          "text": [
            "Enter any integer number\n",
            "13\n",
            "13 it is an odd number\n"
          ]
        }
      ]
    },
    {
      "cell_type": "markdown",
      "source": [
        "## Check whether a year is a leap year"
      ],
      "metadata": {
        "id": "DkXNoX1TszBi"
      }
    },
    {
      "cell_type": "code",
      "source": [
        "year = int(input(\"Enter the year: \\n\"))\n",
        "\n",
        "if year%4==0 and year%100!=0:\n",
        "  print(f\"{year} is a leap year.\")\n",
        "elif year%4==0 and year%100==0:\n",
        "  print(f\"{year} it is a leap year\")\n",
        "else:\n",
        "  print(f\"{year} it is not a leap year.\")"
      ],
      "metadata": {
        "colab": {
          "base_uri": "https://localhost:8080/"
        },
        "id": "3Mq5n128o-eX",
        "outputId": "2f8a335d-dd30-45ef-a48e-77833650fd8c"
      },
      "execution_count": null,
      "outputs": [
        {
          "output_type": "stream",
          "name": "stdout",
          "text": [
            "Enter the year: \n",
            "1996\n",
            "1996 is a leap year.\n"
          ]
        }
      ]
    },
    {
      "cell_type": "code",
      "source": [],
      "metadata": {
        "id": "b6BzLiXJo-he"
      },
      "execution_count": null,
      "outputs": []
    },
    {
      "cell_type": "code",
      "source": [
        "n = int(input(\"Enter the year: \\n\"))\n",
        "\n",
        "if n%4==0:\n",
        "  if n%100!=0:\n",
        "    print(\"It is leap year\")\n",
        "  elif n%400==0:\n",
        "      print(\"It is a leap year.\")\n",
        "else:\n",
        "  print(\"It is NOT leap year.\")\n"
      ],
      "metadata": {
        "colab": {
          "base_uri": "https://localhost:8080/"
        },
        "id": "sF_PkG8Io-kf",
        "outputId": "58145395-b43a-46bd-bd50-a5814769893e"
      },
      "execution_count": null,
      "outputs": [
        {
          "output_type": "stream",
          "name": "stdout",
          "text": [
            "Enter the year: \n",
            "2013\n",
            "It is NOxT leap year.\n"
          ]
        }
      ]
    },
    {
      "cell_type": "code",
      "source": [
        "year = int(input(\"Which year do you want to predict? \\n\"))\n",
        "\n",
        "if year % 4 == 0:\n",
        "  if year % 100 == 0:\n",
        "    if year % 400 == 0:\n",
        "      print(\"Leap Year\")\n",
        "    else:\n",
        "      print(\"Not Leap Year.\")\n",
        "  else:\n",
        "    print(\"Leap year.\")\n",
        "else:\n",
        "  print(\"Not leap year.\")"
      ],
      "metadata": {
        "colab": {
          "base_uri": "https://localhost:8080/"
        },
        "id": "9PBcb9Hro-m5",
        "outputId": "0c3be3ae-5f75-4185-8620-91e5242e8aa5"
      },
      "execution_count": null,
      "outputs": [
        {
          "output_type": "stream",
          "name": "stdout",
          "text": [
            "Which year do you want to predict? \n",
            "2020\n",
            "Leap year.\n"
          ]
        }
      ]
    },
    {
      "cell_type": "markdown",
      "source": [
        "## Love Calculator"
      ],
      "metadata": {
        "id": "Gmcz5RrO57uX"
      }
    },
    {
      "cell_type": "code",
      "source": [
        "print(\"Welcome to the Love Calculator! \\n\")\n",
        "\n",
        "name1 = input(\"What is your name? \\n\")\n",
        "name2 = input(\"What is their name? \\n\")"
      ],
      "metadata": {
        "colab": {
          "base_uri": "https://localhost:8080/"
        },
        "id": "gPGPwLh259oQ",
        "outputId": "6eba2cf9-1cd9-48bd-ee4a-8bec3ab52505"
      },
      "execution_count": 17,
      "outputs": [
        {
          "name": "stdout",
          "output_type": "stream",
          "text": [
            "Welcome to the Love Calculator! \n",
            "\n",
            "What is your name? \n",
            "John Snow\n",
            "What is their name? \n",
            "Wonder Women\n"
          ]
        }
      ]
    },
    {
      "cell_type": "code",
      "source": [
        "combined_string = name1 + name2\n",
        "\n",
        "lower_case_string = combined_string.lower()\n",
        "\n",
        "t = lower_case_string.count(\"t\")\n",
        "r = lower_case_string.count(\"r\")\n",
        "u = lower_case_string.count(\"u\")\n",
        "e = lower_case_string.count(\"e\")\n",
        "\n",
        "true = t + r + u + e \n",
        "\n",
        "l = lower_case_string.count(\"l\")\n",
        "o = lower_case_string.count(\"o\")\n",
        "v = lower_case_string.count(\"v\")\n",
        "e = lower_case_string.count(\"e\")\n",
        "\n",
        "love = l + o + v + e \n",
        "\n",
        "love_score = int(str(true) + str(love))\n",
        "\n",
        "print(love_score)"
      ],
      "metadata": {
        "id": "sBKVzK6To-tp",
        "colab": {
          "base_uri": "https://localhost:8080/"
        },
        "outputId": "cd0a7725-e341-4177-d4a8-f99a29d5cc98"
      },
      "execution_count": 18,
      "outputs": [
        {
          "output_type": "stream",
          "name": "stdout",
          "text": [
            "36\n"
          ]
        }
      ]
    },
    {
      "cell_type": "code",
      "source": [
        "if (love_score < 10) or (love_score > 90):\n",
        "  print(f\"Your love score is  {love_score}, you go together like coke and mentos\")\n",
        "elif (love_score >=40) and (love_score <= 50):\n",
        "  print(f\"Your score is {love_score}, you are alright together.\")\n",
        "else:\n",
        "  print(f\"Your love score is {love_score}\")\n"
      ],
      "metadata": {
        "colab": {
          "base_uri": "https://localhost:8080/"
        },
        "id": "9DBmLu3p6VqC",
        "outputId": "d43584df-0b71-4720-9ab8-1b6abc7b0362"
      },
      "execution_count": 19,
      "outputs": [
        {
          "output_type": "stream",
          "name": "stdout",
          "text": [
            "Your love score is 36\n"
          ]
        }
      ]
    },
    {
      "cell_type": "markdown",
      "source": [
        "## Tresure Island"
      ],
      "metadata": {
        "id": "-n2twpSaBiEX"
      }
    },
    {
      "cell_type": "code",
      "source": [
        "print(\"Welcome to Treasure Island. Your mission is to find the treasure\")\n",
        "n1 = input(\"Left or Right \\n\")\n",
        "n = n1.lower()\n",
        "if n == 'right':\n",
        "  print(\"Game Over\")\n",
        "elif n == 'left':\n",
        "  print('Swim or wait \\n')\n",
        "  m1 = input()\n",
        "  m = m1.lower()\n",
        "  if m == 'swim':\n",
        "    print(\"Game Over\")\n",
        "  elif m == 'wait':\n",
        "    print(\"Which door? \\n\")\n",
        "    o1 = input()\n",
        "    o = o1.lower()\n",
        "    if o == 'blue':\n",
        "      print(\"Game Over\")\n",
        "    elif o == 'yellow':\n",
        "      print(\"You Win!\")\n",
        "    elif o == 'red':\n",
        "      print(\"Game Over\")\n"
      ],
      "metadata": {
        "colab": {
          "base_uri": "https://localhost:8080/"
        },
        "id": "_1gHKAAc6Vs1",
        "outputId": "b43b622d-196b-427e-b981-0004975f040b"
      },
      "execution_count": 27,
      "outputs": [
        {
          "output_type": "stream",
          "name": "stdout",
          "text": [
            "Welcome to Treasure Island. Your mission is to find the treasure\n",
            "Left or Right \n",
            "left\n",
            "Swim or wait \n",
            "\n",
            "WAIT\n",
            "Which door? \n",
            "\n",
            "YELLOW\n",
            "You Win!\n"
          ]
        }
      ]
    },
    {
      "cell_type": "code",
      "source": [],
      "metadata": {
        "id": "EaKMA1GJ6VwB"
      },
      "execution_count": 25,
      "outputs": []
    }
  ]
}